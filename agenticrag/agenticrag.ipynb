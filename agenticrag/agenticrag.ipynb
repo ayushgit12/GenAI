{
 "cells": [
  {
   "cell_type": "code",
   "execution_count": 16,
   "id": "d99d8e8d",
   "metadata": {},
   "outputs": [],
   "source": [
    "import os\n",
    "from typing import TypedDict, List\n",
    "from langgraph.graph import StateGraph, END\n",
    "from langchain_community.vectorstores import FAISS\n",
    "from langchain.text_splitter import RecursiveCharacterTextSplitter\n",
    "from langchain.schema import Document\n",
    "\n",
    "from langchain_groq import ChatGroq\n",
    "from langchain_community.embeddings import HuggingFaceEmbeddings\n",
    "\n"
   ]
  },
  {
   "cell_type": "code",
   "execution_count": 17,
   "id": "cae999d7",
   "metadata": {},
   "outputs": [
    {
     "name": "stderr",
     "output_type": "stream",
     "text": [
      "/var/folders/h2/qdfdwjf556lffjcf08g9jllw0000gn/T/ipykernel_58699/2391250284.py:7: LangChainDeprecationWarning: The class `HuggingFaceEmbeddings` was deprecated in LangChain 0.2.2 and will be removed in 1.0. An updated version of the class exists in the :class:`~langchain-huggingface package and should be used instead. To use it run `pip install -U :class:`~langchain-huggingface` and import as `from :class:`~langchain_huggingface import HuggingFaceEmbeddings``.\n",
      "  embeddings = HuggingFaceEmbeddings(model_name=\"sentence-transformers/all-MiniLM-L6-v2\")\n"
     ]
    }
   ],
   "source": [
    "from dotenv import load_dotenv\n",
    "load_dotenv()\n",
    "\n",
    "groq_api_key = os.getenv(\"GROQ_API_KEY\")\n",
    "\n",
    "llm = ChatGroq(groq_api_key=groq_api_key, model=\"llama-3.1-8b-instant\", temperature=0.1, max_tokens=1024)\n",
    "embeddings = HuggingFaceEmbeddings(model_name=\"sentence-transformers/all-MiniLM-L6-v2\")\n"
   ]
  },
  {
   "cell_type": "markdown",
   "id": "2d38d376",
   "metadata": {},
   "source": [
    "## STATE DEFINITION"
   ]
  },
  {
   "cell_type": "code",
   "execution_count": 18,
   "id": "593e8c0a",
   "metadata": {},
   "outputs": [],
   "source": [
    "class AgentState(TypedDict):\n",
    "     question: str\n",
    "     documents: List[Document]\n",
    "     answer: str\n",
    "     needs_retrieval: bool\n",
    "     "
   ]
  },
  {
   "cell_type": "code",
   "execution_count": 41,
   "id": "f8d0144e",
   "metadata": {},
   "outputs": [],
   "source": [
    "### SAMPLE DOCUMENTS AND VECTORSTORE\n",
    "# Sample documents for demonstration purposes\n",
    "\n",
    "sample_texts = [\n",
    "     \"LangGraph is a powerful framework for building language model applications.\",\n",
    "     \"LangChain provides tools for working with language models and chains.\",\n",
    "     \"FAISS is a library for efficient similarity search and clustering of dense vectors.\",\n",
    "     \"Groq offers high-performance AI hardware and software solutions.\",\n",
    "]\n",
    "\n",
    "documents = [Document(page_content=text) for text in sample_texts]\n",
    "\n",
    "vectorstore = FAISS.from_documents(documents, embeddings)\n",
    "retriever = vectorstore.as_retriever(k=3)\n",
    "\n"
   ]
  },
  {
   "cell_type": "markdown",
   "id": "2cefec98",
   "metadata": {},
   "source": [
    "## AGENTIC FUNCTIONS"
   ]
  },
  {
   "cell_type": "code",
   "execution_count": 42,
   "id": "859369df",
   "metadata": {},
   "outputs": [],
   "source": [
    "def decide_retrieval(state: AgentState) -> AgentState:\n",
    "     \"\"\"\n",
    "     Decide if we need to retrieve documents based on the question.\n",
    "     \"\"\"\n",
    "     question = state[\"question\"]\n",
    "     retrieval_keywords = [\"what\", \"who\", \"explain\", \"define\", \"tell me\"]\n",
    "     needs_retrieval = any(keyword in question.lower() for keyword in retrieval_keywords)\n",
    "     \n",
    "     return {**state, \"needs_retrieval\": needs_retrieval}\n"
   ]
  },
  {
   "cell_type": "code",
   "execution_count": 43,
   "id": "a3528075",
   "metadata": {},
   "outputs": [],
   "source": [
    "def retrieve_documents(state: AgentState) -> AgentState:\n",
    "     \"\"\"\n",
    "     Retrieve documents based on the question.\n",
    "     \"\"\"\n",
    "     question = state[\"question\"]\n",
    "     docs = retriever.invoke(question)\n",
    "     return {**state, \"documents\": docs}"
   ]
  },
  {
   "cell_type": "code",
   "execution_count": 44,
   "id": "e0cb358e",
   "metadata": {},
   "outputs": [],
   "source": [
    "def generate_answer(state: AgentState) -> AgentState:\n",
    "     \"\"\"\n",
    "     Generate an answer using the retrieved documents or direct response.\n",
    "     \"\"\"\n",
    "     question = state[\"question\"]\n",
    "     documents = state.get(\"documents\", [])\n",
    "\n",
    "     if documents:\n",
    "          context = \"\\n\\n\".join([doc.page_content for doc in documents])\n",
    "          prompt = f\"\"\"Based on the following context, answer the question:\n",
    "          Context:\n",
    "          {context}\n",
    "          Question: {question}\n",
    "          Answer:\"\"\"\n",
    "     else:\n",
    "          # Direct response without retrieval.\n",
    "          prompt = f\"\"\"Answer the following question: {question}\"\"\"\n",
    "          \n",
    "     answer = llm.invoke(prompt)\n",
    "     return {**state, \"answer\": answer}"
   ]
  },
  {
   "cell_type": "markdown",
   "id": "0f791662",
   "metadata": {},
   "source": [
    "## CONDITIONAL LOGIC"
   ]
  },
  {
   "cell_type": "code",
   "execution_count": 45,
   "id": "cce7d3c9",
   "metadata": {},
   "outputs": [],
   "source": [
    "def should_retrieve(state: AgentState) -> str:\n",
    "     \"\"\"\n",
    "     Determine the next step based on whether retrieval is needed.\n",
    "     \"\"\"\n",
    "     if state[\"needs_retrieval\"]:\n",
    "          return \"retrieve\"\n",
    "     else:\n",
    "          return \"generate\""
   ]
  },
  {
   "cell_type": "markdown",
   "id": "6b630e8e",
   "metadata": {},
   "source": [
    "## BUILD THE GRAPH"
   ]
  },
  {
   "cell_type": "code",
   "execution_count": 46,
   "id": "59a62181",
   "metadata": {},
   "outputs": [
    {
     "data": {
      "image/png": "[encoded data removed]",
      "text/plain": [
       "<langgraph.graph.state.CompiledStateGraph object at 0x127393ad0>"
      ]
     },
     "execution_count": 46,
     "metadata": {},
     "output_type": "execute_result"
    }
   ],
   "source": [
    "workflow = StateGraph(AgentState)\n",
    "\n",
    "workflow.add_node(\"decide\", decide_retrieval)\n",
    "workflow.add_node(\"retrieve\", retrieve_documents)\n",
    "workflow.add_node(\"generate\", generate_answer)\n",
    "\n",
    "workflow.set_entry_point(\"decide\")\n",
    "\n",
    "workflow.add_conditional_edges(\n",
    "     \"decide\",\n",
    "     should_retrieve,\n",
    "     {\n",
    "          \"retrieve\": \"retrieve\",\n",
    "          \"generate\": \"generate\"\n",
    "     }\n",
    ")\n",
    "\n",
    "\n",
    "workflow.add_edge(\"retrieve\", \"generate\")\n",
    "workflow.add_edge(\"generate\", END)\n",
    "\n",
    "app = workflow.compile()\n",
    "app\n"
   ]
  },
  {
   "cell_type": "markdown",
   "id": "d014f7d6",
   "metadata": {},
   "source": [
    "## TEST"
   ]
  },
  {
   "cell_type": "code",
   "execution_count": 47,
   "id": "a8d40d24",
   "metadata": {},
   "outputs": [],
   "source": [
    "def ask_question(question: str) -> str:\n",
    "     initial_state = {\n",
    "          \"question\": question,\n",
    "          \"documents\": [],\n",
    "          \"answer\": \"\",\n",
    "          \"needs_retrieval\": False\n",
    "     }\n",
    "     final_state = app.invoke(initial_state)\n",
    "     return final_state\n"
   ]
  },
  {
   "cell_type": "code",
   "execution_count": 48,
   "id": "1d04002d",
   "metadata": {},
   "outputs": [
    {
     "name": "stdout",
     "output_type": "stream",
     "text": [
      "Question: What is LangGraph?\n",
      "{'question': 'What is LangGraph?', 'documents': [Document(id='28214e43-dc8a-4a22-a01b-d89d8423bb0e', metadata={}, page_content='LangGraph is a powerful framework for building language model applications.'), Document(id='0661e82f-32d0-4d0b-a844-246b99037a27', metadata={}, page_content='LangChain provides tools for working with language models and chains.'), Document(id='ad398b6e-0bb7-41e1-a997-f9e446016ce3', metadata={}, page_content='FAISS is a library for efficient similarity search and clustering of dense vectors.'), Document(id='cefd6b6a-92c2-4d89-886a-389822470872', metadata={}, page_content='Groq offers high-performance AI hardware and software solutions.')], 'answer': AIMessage(content='LangGraph is a powerful framework for building language model applications.', additional_kwargs={}, response_metadata={'token_usage': {'completion_tokens': 13, 'prompt_tokens': 110, 'total_tokens': 123, 'completion_time': 0.015429247, 'prompt_time': 0.0059671, 'queue_time': 0.04887057, 'total_time': 0.021396347}, 'model_name': 'llama-3.1-8b-instant', 'system_fingerprint': 'fp_33e8adf159', 'service_tier': 'on_demand', 'finish_reason': 'stop', 'logprobs': None}, id='run--58bb4e26-d373-4922-9a9c-e9b99c303dc0-0', usage_metadata={'input_tokens': 110, 'output_tokens': 13, 'total_tokens': 123}), 'needs_retrieval': True}\n"
     ]
    }
   ],
   "source": [
    "question = \"What is LangGraph?\"\n",
    "result_state = ask_question(question)\n",
    "print(\"Question:\", question)\n",
    "print(result_state)"
   ]
  },
  {
   "cell_type": "code",
   "execution_count": 49,
   "id": "f69fbc44",
   "metadata": {},
   "outputs": [
    {
     "name": "stdout",
     "output_type": "stream",
     "text": [
      "Question: What is LangChain?\n",
      "Retrieved documents: {4}\n",
      "Answer:  content='LangChain provides tools for working with language models and chains.' additional_kwargs={} response_metadata={'token_usage': {'completion_tokens': 13, 'prompt_tokens': 110, 'total_tokens': 123, 'completion_time': 0.018219974, 'prompt_time': 0.005855561, 'queue_time': 0.047804819, 'total_time': 0.024075535}, 'model_name': 'llama-3.1-8b-instant', 'system_fingerprint': 'fp_ab04adca7d', 'service_tier': 'on_demand', 'finish_reason': 'stop', 'logprobs': None} id='run--8ec13ce4-10a8-4274-8ead-40efc86a6ac3-0' usage_metadata={'input_tokens': 110, 'output_tokens': 13, 'total_tokens': 123}\n",
      "\n",
      "==================================================\n",
      "\n"
     ]
    }
   ],
   "source": [
    "question2 = \"What is LangChain?\"\n",
    "result2 = ask_question(question2)\n",
    "\n",
    "print(f\"Question:\", question2)\n",
    "print(f\"Retrieved documents:\", {len(result2['documents'])} )\n",
    "print(f\"Answer: \", result2['answer'])\n",
    "print(\"\\n\" + \"=\"*50 + \"\\n\")"
   ]
  }
 ],
 "metadata": {
  "kernelspec": {
   "display_name": "venv",
   "language": "python",
   "name": "python3"
  },
  "language_info": {
   "codemirror_mode": {
    "name": "ipython",
    "version": 3
   },
   "file_extension": ".py",
   "mimetype": "text/x-python",
   "name": "python",
   "nbconvert_exporter": "python",
   "pygments_lexer": "ipython3",
   "version": "3.11.5"
  }
 },
 "nbformat": 4,
 "nbformat_minor": 5
}
